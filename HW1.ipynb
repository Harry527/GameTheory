{
  "nbformat": 4,
  "nbformat_minor": 0,
  "metadata": {
    "colab": {
      "name": "HW1.ipynb",
      "provenance": [],
      "collapsed_sections": []
    },
    "kernelspec": {
      "name": "python3",
      "display_name": "Python 3"
    }
  },
  "cells": [
    {
      "cell_type": "code",
      "metadata": {
        "id": "7WRnbzcL3uoQ",
        "colab_type": "code",
        "colab": {}
      },
      "source": [
        "# Problem 3c\n",
        "# Compute saddle Point Equilibrium for zero sum game using Linear Programming\n",
        "# Based on Von Neumann Theorem\n",
        "# Row Player Minimizes by default\n",
        "import numpy as np\n",
        "from scipy.optimize import linprog \n",
        "def compute_SPE(A, RowPlayerMinimize = True):\n",
        "  if RowPlayerMinimize == False:\n",
        "    A = A.T\n",
        "  m, n = A.shape\n",
        "  A_ub_m = np.append(-np.eye(m), A.T, axis=0)\n",
        "  b_ub_m = np.append(np.zeros(shape=(m,1)), np.ones(shape=(n,1)))\n",
        "  p = linprog(c=-np.ones(shape=(m, 1)), A_ub=A_ub_m, b_ub=b_ub_m).x\n",
        "  v_p = 1 / np.sum(p)\n",
        "  p_star = p * v_p\n",
        "\n",
        "  A_ub_n = np.append(-np.eye(n), -A, axis=0)\n",
        "  b_ub_n = np.append(np.zeros(shape=(n,1)), -np.ones(shape=(m,1)))\n",
        "  q = linprog(c=np.ones(shape=(n, 1)), A_ub=A_ub_n, b_ub=b_ub_n).x\n",
        "  v_q = 1 / np.sum(q)\n",
        "  q_star = q * v_q\n",
        "  if RowPlayerMinimize == True:\n",
        "    return p_star, q_star\n",
        "  else:\n",
        "    return q_star, p_star\n",
        "  \n",
        "  "
      ],
      "execution_count": 0,
      "outputs": []
    },
    {
      "cell_type": "code",
      "metadata": {
        "id": "_8yndjhO5pi2",
        "colab_type": "code",
        "outputId": "0ad3edde-d5cb-43f6-c43b-901d8be77b75",
        "colab": {
          "base_uri": "https://localhost:8080/",
          "height": 68
        }
      },
      "source": [
        "# Problem 4 (a) We first compute the p*, q* using LP\n",
        "m = 10\n",
        "n = 30\n",
        "A = np.random.rand(m,n)\n",
        "p_star, q_star = compute_SPE(A, RowPlayerMinimize=True)\n",
        "value = np.dot(np.dot(p_star.T, A), q_star)\n",
        "\n",
        "# Then we run the iteration given in problem 3.\n",
        "cumulative_payoff = 0\n",
        "for i in range(10000):\n",
        "  i_t = np.random.choice(range(m), p=p_star)\n",
        "  j_t = np.random.choice(range(n), p=q_star)\n",
        "  cumulative_payoff += A[i_t][j_t]\n",
        "average_payoff = cumulative_payoff / 10000\n",
        "\n",
        "print(\"Value of game:\", value)\n",
        "print(\"Average payoff\", average_payoff)\n",
        "if abs(value - average_payoff) < 0.01:\n",
        "  print(\"Average payoff is approximately equal to the value of zero sum game!\")"
      ],
      "execution_count": 2,
      "outputs": [
        {
          "output_type": "stream",
          "text": [
            "Value of game: 0.5632248614387622\n",
            "Average payoff 0.5676736844766388\n",
            "Average payoff is approximately equal to the value of zero sum game!\n"
          ],
          "name": "stdout"
        }
      ]
    },
    {
      "cell_type": "code",
      "metadata": {
        "id": "Xvc3EiSvjU2v",
        "colab_type": "code",
        "colab": {}
      },
      "source": [
        "# Problem 4 (b)\n",
        "# Each player acts randomly at t = 1\n",
        "action_1 = np.random.choice(range(m))\n",
        "action_2 = np.random.choice(range(n))\n",
        "freq_1 = np.zeros(shape=(m,1)) # stores the frequency of action of player 1\n",
        "freq_2 = np.zeros(shape=(n,1)) # stores the frequency of action of player 2\n",
        "freq_1[action_1] += 1\n",
        "freq_2[action_2] += 1\n",
        "i = 1 # start at second time step\n",
        "num_iter = 100\n",
        "norms = np.zeros(shape=(2, num_iter))\n",
        "while(i < num_iter + 1):\n",
        "  p_hat = freq_1 / i\n",
        "  q_hat = freq_2 / i\n",
        "  # compute ||p_hat - p*||, ||q_hat - q*||\n",
        "  norms[0][i-1] = np.linalg.norm(p_hat - p_star, ord=np.inf)\n",
        "  norms[1][i-1] = np.linalg.norm(q_hat - q_star, ord=np.inf)\n",
        "  # do linear programming, compute the best response\n",
        "  A_ub_1 = -np.eye(m)\n",
        "  b_ub_1 = np.zeros(shape=(1, m))\n",
        "  A_eq_1 = np.ones(shape=(1, m))\n",
        "  b_eq_1 = 1\n",
        "  p_hat_prev = p_hat \n",
        "  p_hat = linprog(c=np.dot(q_hat.T, A.T), A_ub=A_ub_1, b_ub=b_ub_1, A_eq=A_eq_1, b_eq=b_eq_1).x\n",
        "  A_ub_2 = -np.eye(n)\n",
        "  b_ub_2 = np.zeros(shape=(1,n))\n",
        "  A_eq_2 = np.ones(shape=(1,n))\n",
        "  b_eq_2 = 1\n",
        "  q_hat = linprog(c=-np.dot(p_hat_prev.T, A), A_ub=A_ub_2, b_ub=b_ub_2, A_eq=A_eq_2, b_eq=b_eq_2).x\n",
        "  i += 1\n"
      ],
      "execution_count": 0,
      "outputs": []
    },
    {
      "cell_type": "code",
      "metadata": {
        "id": "PcrZxIkko8r5",
        "colab_type": "code",
        "outputId": "2c372dda-f048-4f3a-de64-ae0fb8b60616",
        "colab": {
          "base_uri": "https://localhost:8080/",
          "height": 296
        }
      },
      "source": [
        "import matplotlib.pyplot as plt\n",
        "plt.plot(norms[0])\n",
        "plt.plot(norms[1])\n",
        "plt.title(\"Problem 4(b)\")\n",
        "plt.xlabel(\"num_iteration\")\n",
        "plt.legend([\"||p-p*||\", \"||q-q*||\"])\n",
        "plt.show()"
      ],
      "execution_count": 4,
      "outputs": [
        {
          "output_type": "display_data",
          "data": {
            "image/png": "[encoded data removed]",
            "text/plain": [
              "<Figure size 432x288 with 1 Axes>"
            ]
          },
          "metadata": {
            "tags": [],
            "needs_background": "light"
          }
        }
      ]
    },
    {
      "cell_type": "code",
      "metadata": {
        "id": "SoOHzqbLpWy1",
        "colab_type": "code",
        "colab": {}
      },
      "source": [
        ""
      ],
      "execution_count": 0,
      "outputs": []
    }
  ]
}